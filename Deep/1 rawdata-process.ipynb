{
 "cells": [
  {
   "cell_type": "markdown",
   "id": "15e649ad",
   "metadata": {},
   "source": [
    "# 从原始的unit数据集中读取数据并保存"
   ]
  },
  {
   "cell_type": "code",
   "execution_count": 16,
   "id": "9e3916c5",
   "metadata": {},
   "outputs": [],
   "source": [
    "import pandas as pd\n",
    "import numpy  as np\n",
    "from sklearn.model_selection import train_test_split\n",
    "data=np.array([])\n",
    "x=np.zeros(4)\n",
    "y=np.zeros(14)\n",
    "num=80\n",
    "columns=19\n",
    "rows=16065\n",
    "for i in range(1,num+1):\n",
    " str_i=str(\"%02d\"%i)\n",
    "#  data_i = np.fromfile(\"./data_new/unit\"+str_i+\"_h01.dat\", dtype=np.float64, count=rows*columns, sep=\" \", offset=0)\n",
    "#  data_i=np.reshape(data_i,(rows,columns))\n",
    " data_i = np.loadtxt(\"./data/unit\"+str_i+\"_h01.dat\", dtype=np.float64)\n",
    " x_i=data_i[:,0:4]\n",
    " y_i=data_i[:,5:19]\n",
    " x=np.vstack([x,x_i])\n",
    " y=np.vstack([y,y_i])\n",
    "# print(i)\n",
    "y=np.delete(y,[8,9,10],axis=1) \n",
    "np.save('./train_data/Xdata_raw',x[1:])\n",
    "np.save('./train_data/Ydata_raw',y[1:])\n"
   ]
  },
  {
   "cell_type": "code",
   "execution_count": 6,
   "id": "c7af5bbe",
   "metadata": {},
   "outputs": [],
   "source": []
  },
  {
   "cell_type": "code",
   "execution_count": 7,
   "id": "4fb01e27",
   "metadata": {},
   "outputs": [],
   "source": []
  },
  {
   "cell_type": "code",
   "execution_count": 2,
   "id": "76ad510b",
   "metadata": {},
   "outputs": [
    {
     "name": "stdout",
     "output_type": "stream",
     "text": [
      "[ 3.88704952e+02  2.98882727e+02  2.32633240e+01  1.33801065e+03\n",
      "  2.55341664e+01 -1.58614970e+06  9.53943700e+02  1.51435996e-05\n",
      "  5.33577418e-02  2.68240512e-02  3.03400008e-02]\n"
     ]
    }
   ],
   "source": []
  },
  {
   "cell_type": "markdown",
   "id": "a2d300cf",
   "metadata": {},
   "source": [
    "# 对合并的数据集进行处理，删除边界值"
   ]
  },
  {
   "cell_type": "code",
   "execution_count": 11,
   "id": "b3fee210",
   "metadata": {},
   "outputs": [],
   "source": [
    "def deleteindx(x,i,down,up):\n",
    "    list1=np.argwhere(x[:,i]<down)\n",
    "    list2=np.argwhere(x[:,i]>up)\n",
    "    listdel=np.append(list1,list2)\n",
    "    list_del, indices = np.unique(listdel, return_index=True) \n",
    "    return list_del\n"
   ]
  },
  {
   "cell_type": "code",
   "execution_count": 12,
   "id": "e424f834",
   "metadata": {},
   "outputs": [],
   "source": [
    "\n",
    "listz=deleteindx(x,0,3e-3,7e-1)\n",
    "# print(np.shape(listz))\n",
    "listc=deleteindx(x,1,0.03,0.97)\n",
    "# print(np.shape(listc))\n",
    "listgz=deleteindx(x,2,1e-5,9e-2)\n",
    "# print(np.shape(listgz))\n",
    "listgc=deleteindx(x,3,1e-2,9.5e-1)\n",
    "# print(np.shape(listgc))\n",
    "listdel=np.concatenate((listz,listc,listgz,listgc),axis=None)\n",
    "list_del, indices = np.unique(listdel, return_index=True) \n",
    "# print(np.shape(list_del))"
   ]
  },
  {
   "cell_type": "code",
   "execution_count": 13,
   "id": "e7e18efc",
   "metadata": {},
   "outputs": [],
   "source": [
    "x_process= np.delete(x, list_del, axis=0)\n",
    "y_process= np.delete(y, list_del, axis=0)"
   ]
  },
  {
   "cell_type": "code",
   "execution_count": 14,
   "id": "1549e9e0",
   "metadata": {},
   "outputs": [
    {
     "name": "stdout",
     "output_type": "stream",
     "text": [
      "(1285201, 11)\n",
      "(882284, 11)\n"
     ]
    }
   ],
   "source": [
    "print(np.shape(y))\n",
    "print(np.shape(y_process))"
   ]
  },
  {
   "cell_type": "code",
   "execution_count": 15,
   "id": "b0216e91",
   "metadata": {},
   "outputs": [],
   "source": [
    "np.save('./train_data/process1/Xdata_delete',x_process)\n",
    "np.save('./train_data/Ydata_delete',y_process)"
   ]
  },
  {
   "cell_type": "code",
   "execution_count": null,
   "id": "d8216b77",
   "metadata": {},
   "outputs": [],
   "source": []
  }
 ],
 "metadata": {
  "kernelspec": {
   "display_name": "Python 3 (ipykernel)",
   "language": "python",
   "name": "python3"
  },
  "language_info": {
   "codemirror_mode": {
    "name": "ipython",
    "version": 3
   },
   "file_extension": ".py",
   "mimetype": "text/x-python",
   "name": "python",
   "nbconvert_exporter": "python",
   "pygments_lexer": "ipython3",
   "version": "3.9.13"
  }
 },
 "nbformat": 4,
 "nbformat_minor": 5
}
